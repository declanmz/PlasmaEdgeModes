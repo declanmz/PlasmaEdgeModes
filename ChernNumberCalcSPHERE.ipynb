{
 "cells": [
  {
   "cell_type": "code",
   "execution_count": 1,
   "metadata": {},
   "outputs": [],
   "source": [
    "import sympy as sym\n",
    "import numpy as np\n",
    "import scipy as sp\n",
    "import mpmath as mp\n",
    "from functools import partial\n",
    "# init_printing(use_unicode=True)"
   ]
  },
  {
   "cell_type": "code",
   "execution_count": 31,
   "metadata": {},
   "outputs": [],
   "source": [
    "kx, ky, kz = sym.symbols('kx ky kz')\n",
    "sigma = sym.symbols('sigma')\n",
    "\n",
    "# kc = 1000\n",
    "# p = 2\n",
    "# r = 1/(1 + (sym.sqrt(kx**2 + ky**2)/kc)**p) #ADD BACK IN kz?\n",
    "r=1\n",
    "\n",
    "H = sym.Matrix([[0, -1j*sigma, 0, -1j*r, 0, 0, 0, 0, 0],\n",
    "           [1j*sigma, 0, 0, 0, -1j*r, 0, 0, 0, 0],\n",
    "           [0, 0, 0, 0, 0, -1j*r, 0, 0, 0],\n",
    "           [1j*r, 0, 0, 0, 0, 0, 0, kz, -ky],\n",
    "           [0, 1j*r, 0, 0, 0, 0, -kz, 0, kx],\n",
    "           [0, 0, 1j*r, 0, 0, 0, ky, -kx, 0],\n",
    "           [0, 0, 0, 0, -kz, ky, 0, 0, 0],\n",
    "           [0, 0, 0, kz, 0, -kx, 0, 0, 0],\n",
    "           [0, 0, 0, -ky, kx, 0, 0, 0, 0]])"
   ]
  },
  {
   "cell_type": "code",
   "execution_count": 32,
   "metadata": {},
   "outputs": [
    {
     "data": {
      "text/latex": [
       "$\\displaystyle \\left[\\begin{matrix}0 & - 1.0 i \\sigma & 0 & - 1.0 i & 0 & 0 & 0 & 0 & 0\\\\1.0 i \\sigma & 0 & 0 & 0 & - 1.0 i & 0 & 0 & 0 & 0\\\\0 & 0 & 0 & 0 & 0 & - 1.0 i & 0 & 0 & 0\\\\1.0 i & 0 & 0 & 0 & 0 & 0 & 0 & kz & - ky\\\\0 & 1.0 i & 0 & 0 & 0 & 0 & - kz & 0 & kx\\\\0 & 0 & 1.0 i & 0 & 0 & 0 & ky & - kx & 0\\\\0 & 0 & 0 & 0 & - kz & ky & 0 & 0 & 0\\\\0 & 0 & 0 & kz & 0 & - kx & 0 & 0 & 0\\\\0 & 0 & 0 & - ky & kx & 0 & 0 & 0 & 0\\end{matrix}\\right]$"
      ],
      "text/plain": [
       "Matrix([\n",
       "[          0, -1.0*I*sigma,     0, -1.0*I,      0,      0,   0,   0,   0],\n",
       "[1.0*I*sigma,            0,     0,      0, -1.0*I,      0,   0,   0,   0],\n",
       "[          0,            0,     0,      0,      0, -1.0*I,   0,   0,   0],\n",
       "[      1.0*I,            0,     0,      0,      0,      0,   0,  kz, -ky],\n",
       "[          0,        1.0*I,     0,      0,      0,      0, -kz,   0,  kx],\n",
       "[          0,            0, 1.0*I,      0,      0,      0,  ky, -kx,   0],\n",
       "[          0,            0,     0,      0,    -kz,     ky,   0,   0,   0],\n",
       "[          0,            0,     0,     kz,      0,    -kx,   0,   0,   0],\n",
       "[          0,            0,     0,    -ky,     kx,      0,   0,   0,   0]])"
      ]
     },
     "execution_count": 32,
     "metadata": {},
     "output_type": "execute_result"
    }
   ],
   "source": [
    "H"
   ]
  },
  {
   "cell_type": "code",
   "execution_count": 33,
   "metadata": {},
   "outputs": [],
   "source": [
    "ax, ay, az, b = sym.symbols('ax ay az b')\n",
    "\n",
    "phi, th = sym.symbols('phi th')\n",
    "\n",
    "kx_sub = ax + b*sym.cos(phi)*sym.sin(th)\n",
    "ky_sub = ay + b*sym.sin(phi)*sym.sin(th)\n",
    "kz_sub = az + b*sym.cos(th)"
   ]
  },
  {
   "cell_type": "code",
   "execution_count": 34,
   "metadata": {},
   "outputs": [],
   "source": [
    "H_sub = H.subs({kx: kx_sub, ky: ky_sub, kz: kz_sub})"
   ]
  },
  {
   "cell_type": "code",
   "execution_count": 35,
   "metadata": {},
   "outputs": [
    {
     "data": {
      "text/latex": [
       "$\\displaystyle \\left[\\begin{matrix}0 & - 1.0 i \\sigma & 0 & - 1.0 i & 0 & 0 & 0 & 0 & 0\\\\1.0 i \\sigma & 0 & 0 & 0 & - 1.0 i & 0 & 0 & 0 & 0\\\\0 & 0 & 0 & 0 & 0 & - 1.0 i & 0 & 0 & 0\\\\1.0 i & 0 & 0 & 0 & 0 & 0 & 0 & az + b \\cos{\\left(th \\right)} & - ay - b \\sin{\\left(\\phi \\right)} \\sin{\\left(th \\right)}\\\\0 & 1.0 i & 0 & 0 & 0 & 0 & - az - b \\cos{\\left(th \\right)} & 0 & ax + b \\sin{\\left(th \\right)} \\cos{\\left(\\phi \\right)}\\\\0 & 0 & 1.0 i & 0 & 0 & 0 & ay + b \\sin{\\left(\\phi \\right)} \\sin{\\left(th \\right)} & - ax - b \\sin{\\left(th \\right)} \\cos{\\left(\\phi \\right)} & 0\\\\0 & 0 & 0 & 0 & - az - b \\cos{\\left(th \\right)} & ay + b \\sin{\\left(\\phi \\right)} \\sin{\\left(th \\right)} & 0 & 0 & 0\\\\0 & 0 & 0 & az + b \\cos{\\left(th \\right)} & 0 & - ax - b \\sin{\\left(th \\right)} \\cos{\\left(\\phi \\right)} & 0 & 0 & 0\\\\0 & 0 & 0 & - ay - b \\sin{\\left(\\phi \\right)} \\sin{\\left(th \\right)} & ax + b \\sin{\\left(th \\right)} \\cos{\\left(\\phi \\right)} & 0 & 0 & 0 & 0\\end{matrix}\\right]$"
      ],
      "text/plain": [
       "Matrix([\n",
       "[          0, -1.0*I*sigma,     0,                   -1.0*I,                       0,                        0,                       0,                        0,                        0],\n",
       "[1.0*I*sigma,            0,     0,                        0,                  -1.0*I,                        0,                       0,                        0,                        0],\n",
       "[          0,            0,     0,                        0,                       0,                   -1.0*I,                       0,                        0,                        0],\n",
       "[      1.0*I,            0,     0,                        0,                       0,                        0,                       0,           az + b*cos(th), -ay - b*sin(phi)*sin(th)],\n",
       "[          0,        1.0*I,     0,                        0,                       0,                        0,         -az - b*cos(th),                        0,  ax + b*sin(th)*cos(phi)],\n",
       "[          0,            0, 1.0*I,                        0,                       0,                        0, ay + b*sin(phi)*sin(th), -ax - b*sin(th)*cos(phi),                        0],\n",
       "[          0,            0,     0,                        0,         -az - b*cos(th),  ay + b*sin(phi)*sin(th),                       0,                        0,                        0],\n",
       "[          0,            0,     0,           az + b*cos(th),                       0, -ax - b*sin(th)*cos(phi),                       0,                        0,                        0],\n",
       "[          0,            0,     0, -ay - b*sin(phi)*sin(th), ax + b*sin(th)*cos(phi),                        0,                       0,                        0,                        0]])"
      ]
     },
     "execution_count": 35,
     "metadata": {},
     "output_type": "execute_result"
    }
   ],
   "source": [
    "H_sub"
   ]
  },
  {
   "cell_type": "code",
   "execution_count": 36,
   "metadata": {},
   "outputs": [],
   "source": [
    "dHdkx = sym.diff(H, kx)\n",
    "dHdky = sym.diff(H, ky)\n",
    "dHdkz = sym.diff(H, kz)\n",
    "\n",
    "dHdphi = sym.diff(H_sub, phi)\n",
    "dHdth = sym.diff(H_sub, th)"
   ]
  },
  {
   "cell_type": "code",
   "execution_count": 37,
   "metadata": {},
   "outputs": [
    {
     "data": {
      "text/latex": [
       "$\\displaystyle \\left[\\begin{matrix}0 & 0 & 0 & 0 & 0 & 0 & 0 & 0 & 0\\\\0 & 0 & 0 & 0 & 0 & 0 & 0 & 0 & 0\\\\0 & 0 & 0 & 0 & 0 & 0 & 0 & 0 & 0\\\\0 & 0 & 0 & 0 & 0 & 0 & 0 & 0 & - b \\sin{\\left(th \\right)} \\cos{\\left(\\phi \\right)}\\\\0 & 0 & 0 & 0 & 0 & 0 & 0 & 0 & - b \\sin{\\left(\\phi \\right)} \\sin{\\left(th \\right)}\\\\0 & 0 & 0 & 0 & 0 & 0 & b \\sin{\\left(th \\right)} \\cos{\\left(\\phi \\right)} & b \\sin{\\left(\\phi \\right)} \\sin{\\left(th \\right)} & 0\\\\0 & 0 & 0 & 0 & 0 & b \\sin{\\left(th \\right)} \\cos{\\left(\\phi \\right)} & 0 & 0 & 0\\\\0 & 0 & 0 & 0 & 0 & b \\sin{\\left(\\phi \\right)} \\sin{\\left(th \\right)} & 0 & 0 & 0\\\\0 & 0 & 0 & - b \\sin{\\left(th \\right)} \\cos{\\left(\\phi \\right)} & - b \\sin{\\left(\\phi \\right)} \\sin{\\left(th \\right)} & 0 & 0 & 0 & 0\\end{matrix}\\right]$"
      ],
      "text/plain": [
       "Matrix([\n",
       "[0, 0, 0,                   0,                   0,                  0,                  0,                  0,                   0],\n",
       "[0, 0, 0,                   0,                   0,                  0,                  0,                  0,                   0],\n",
       "[0, 0, 0,                   0,                   0,                  0,                  0,                  0,                   0],\n",
       "[0, 0, 0,                   0,                   0,                  0,                  0,                  0, -b*sin(th)*cos(phi)],\n",
       "[0, 0, 0,                   0,                   0,                  0,                  0,                  0, -b*sin(phi)*sin(th)],\n",
       "[0, 0, 0,                   0,                   0,                  0, b*sin(th)*cos(phi), b*sin(phi)*sin(th),                   0],\n",
       "[0, 0, 0,                   0,                   0, b*sin(th)*cos(phi),                  0,                  0,                   0],\n",
       "[0, 0, 0,                   0,                   0, b*sin(phi)*sin(th),                  0,                  0,                   0],\n",
       "[0, 0, 0, -b*sin(th)*cos(phi), -b*sin(phi)*sin(th),                  0,                  0,                  0,                   0]])"
      ]
     },
     "execution_count": 37,
     "metadata": {},
     "output_type": "execute_result"
    }
   ],
   "source": [
    "dHdphi"
   ]
  },
  {
   "cell_type": "code",
   "execution_count": 44,
   "metadata": {},
   "outputs": [],
   "source": [
    "# kx_num = 1\n",
    "# ky_num = 0\n",
    "# kz_num = 0.4\n",
    "# n = 6\n",
    "\n",
    "def getBerryCurvature(phi_num, th_num, n, sigma_num, ax_num, ay_num, az_num, b_num):\n",
    "    H_num = np.matrix(H_sub.subs({phi: phi_num, th: th_num, sigma: sigma_num, ax: ax_num, ay: ay_num, az: az_num, b: b_num}), dtype=np.complex128)\n",
    "    dHdphi_num = np.matrix(dHdphi.subs({phi: phi_num, th: th_num, sigma: sigma_num, ax: ax_num, ay: ay_num, az: az_num, b: b_num}), dtype=np.complex128)\n",
    "    dHdth_num = np.matrix(dHdth.subs({phi: phi_num, th: th_num, sigma: sigma_num, ax: ax_num, ay: ay_num, az: az_num, b: b_num}), dtype=np.complex128)\n",
    "    evals, evecsMat = np.linalg.eigh(H_num)\n",
    "    evecs = [np.matrix(evecsMat[:,i]) for i in range(len(evecsMat))]\n",
    "\n",
    "    # Fn = 0\n",
    "    # for m in range(9):\n",
    "    #     if m != n:\n",
    "    #         term1 = evecs[n].H @ dHdkx_num @ evecs[m]\n",
    "    #         term2 = evecs[m].H @ dHdky_num @ evecs[n]\n",
    "    #         term3 = evecs[m].H @ dHdkx_num @ evecs[n]\n",
    "    #         term4 = evecs[n].H @ dHdky_num @ evecs[m]\n",
    "    #         Fn += 1j* (term1*term2 - term3*term4)/((evals[n] - evals[m])**2)\n",
    "\n",
    "    Fn = 0\n",
    "    for m in range(9):\n",
    "        if m != n:\n",
    "            term1 = evecs[n].H @ dHdphi_num @ evecs[m]\n",
    "            term2 = evecs[m].H @ dHdth_num @ evecs[n]\n",
    "            evaldiff = evals[n] - evals[m]\n",
    "            if evaldiff == 0:\n",
    "                print(f\"{n-4} = {evals[n]}, {m-4} = {evals[m]}\")\n",
    "                print(term1*term2)\n",
    "                raise(\"Yuh\")\n",
    "            Fn += -2 * (term1 * term2)/((evaldiff)**2)\n",
    "    Fn = Fn.imag\n",
    "    \n",
    "    return Fn[0,0]"
   ]
  },
  {
   "cell_type": "code",
   "execution_count": 45,
   "metadata": {},
   "outputs": [
    {
     "name": "stderr",
     "output_type": "stream",
     "text": [
      "c:\\Users\\decla\\miniconda3\\envs\\gen\\Lib\\site-packages\\scipy\\integrate\\_quadpack_py.py:1272: IntegrationWarning: The maximum number of subdivisions (50) has been achieved.\n",
      "  If increasing the limit yields no improvement it is advised to analyze \n",
      "  the integrand in order to determine the difficulties.  If the position of a \n",
      "  local difficulty can be determined (singularity, discontinuity) one will \n",
      "  probably gain from splitting up the interval and calling the integrator \n",
      "  on the subranges.  Perhaps a special-purpose integrator should be used.\n",
      "  quad_r = quad(f, low, high, args=args, full_output=self.full_output,\n"
     ]
    },
    {
     "name": "stdout",
     "output_type": "stream",
     "text": [
      "C1 = 6.2831853071767485\n",
      "C2 = 6.283185307179586\n",
      "C3 = -6.283185307179586\n",
      "C4 = 3.3306690738754696e-16\n"
     ]
    }
   ],
   "source": [
    "sigma_num = 0.5\n",
    "ax_num = 0\n",
    "ay_num = 0\n",
    "az_num = 1\n",
    "b_num = 1\n",
    "\n",
    "CList = [None] * 4\n",
    "ErrorList = [None] * 4\n",
    "\n",
    "for i in range(1,5):\n",
    "    integrand = partial(getBerryCurvature, n=i+4, sigma_num=sigma_num, ax_num=ax_num, ay_num=ay_num, az_num=az_num, b_num=b_num)\n",
    "    CList[i-1], ErrorList[i-1] = sp.integrate.dblquad(integrand, 0, np.pi, lambda th_num: 0, lambda th_num: 2*np.pi)\n",
    "    print(f\"C{i} = {CList[i-1]}\")"
   ]
  },
  {
   "cell_type": "code",
   "execution_count": 46,
   "metadata": {},
   "outputs": [
    {
     "name": "stdout",
     "output_type": "stream",
     "text": [
      "C1 = 4.440892098500626e-16\n",
      "C2 = 6.2831853071795845\n",
      "C3 = -6.2831853071795845\n",
      "C4 = 5.551115123125783e-17\n"
     ]
    }
   ],
   "source": [
    "sigma_num = 0.5\n",
    "ax_num = 0\n",
    "ay_num = 0\n",
    "az_num = 0.75\n",
    "b_num = 0.5\n",
    "\n",
    "CList = [None] * 4\n",
    "ErrorList = [None] * 4\n",
    "\n",
    "for i in range(1,5):\n",
    "    integrand = partial(getBerryCurvature, n=i+4, sigma_num=sigma_num, ax_num=ax_num, ay_num=ay_num, az_num=az_num, b_num=b_num)\n",
    "    CList[i-1], ErrorList[i-1] = sp.integrate.dblquad(integrand, 0, np.pi, lambda th_num: 0, lambda th_num: 2*np.pi)\n",
    "    print(f\"C{i} = {CList[i-1]}\")"
   ]
  },
  {
   "cell_type": "code",
   "execution_count": 23,
   "metadata": {},
   "outputs": [
    {
     "name": "stdout",
     "output_type": "stream",
     "text": [
      "1.0\n"
     ]
    }
   ],
   "source": [
    "def integrand(phi_num, th_num):\n",
    "    n = 2\n",
    "    n += 4\n",
    "    return getBerryCurvature(n, phi_num, th_num)\n",
    "\n",
    "twopiCn, error = sp.integrate.dblquad(integrand, 0, np.pi, lambda th_num: 0, lambda th_num: 2*np.pi)\n",
    "Cn = twopiCn / (2*np.pi)\n",
    "print(Cn)"
   ]
  },
  {
   "cell_type": "code",
   "execution_count": 24,
   "metadata": {},
   "outputs": [
    {
     "name": "stderr",
     "output_type": "stream",
     "text": [
      "c:\\Users\\decla\\miniconda3\\envs\\gen\\Lib\\site-packages\\scipy\\integrate\\_quadpack_py.py:1272: IntegrationWarning: The maximum number of subdivisions (50) has been achieved.\n",
      "  If increasing the limit yields no improvement it is advised to analyze \n",
      "  the integrand in order to determine the difficulties.  If the position of a \n",
      "  local difficulty can be determined (singularity, discontinuity) one will \n",
      "  probably gain from splitting up the interval and calling the integrator \n",
      "  on the subranges.  Perhaps a special-purpose integrator should be used.\n",
      "  quad_r = quad(f, low, high, args=args, full_output=self.full_output,\n"
     ]
    },
    {
     "name": "stdout",
     "output_type": "stream",
     "text": [
      "0.9999999999995484\n"
     ]
    }
   ],
   "source": [
    "def integrand(phi_num, th_num):\n",
    "    n = 1\n",
    "    n += 4\n",
    "    return getBerryCurvature(n, phi_num, th_num)\n",
    "\n",
    "twopiCn, error = sp.integrate.dblquad(integrand, 0, np.pi, lambda th_num: 0, lambda th_num: 2*np.pi)\n",
    "Cn = twopiCn / (2*np.pi)\n",
    "print(Cn)"
   ]
  },
  {
   "cell_type": "code",
   "execution_count": 25,
   "metadata": {},
   "outputs": [
    {
     "name": "stdout",
     "output_type": "stream",
     "text": [
      "-1.0\n"
     ]
    }
   ],
   "source": [
    "def integrand(phi_num, th_num):\n",
    "    n = 3\n",
    "    n += 4\n",
    "    return getBerryCurvature(n, phi_num, th_num)\n",
    "\n",
    "twopiCn, error = sp.integrate.dblquad(integrand, 0, np.pi, lambda th_num: 0, lambda th_num: 2*np.pi)\n",
    "Cn = twopiCn / (2*np.pi)\n",
    "print(Cn)"
   ]
  },
  {
   "cell_type": "code",
   "execution_count": 26,
   "metadata": {},
   "outputs": [
    {
     "name": "stdout",
     "output_type": "stream",
     "text": [
      "5.300924469105861e-17\n"
     ]
    }
   ],
   "source": [
    "def integrand(phi_num, th_num):\n",
    "    n = 4\n",
    "    n += 4\n",
    "    return getBerryCurvature(n, phi_num, th_num)\n",
    "\n",
    "twopiCn, error = sp.integrate.dblquad(integrand, 0, np.pi, lambda th_num: 0, lambda th_num: 2*np.pi)\n",
    "Cn = twopiCn / (2*np.pi)\n",
    "print(Cn)"
   ]
  },
  {
   "cell_type": "code",
   "execution_count": null,
   "metadata": {},
   "outputs": [],
   "source": []
  }
 ],
 "metadata": {
  "kernelspec": {
   "display_name": "gen",
   "language": "python",
   "name": "python3"
  },
  "language_info": {
   "codemirror_mode": {
    "name": "ipython",
    "version": 3
   },
   "file_extension": ".py",
   "mimetype": "text/x-python",
   "name": "python",
   "nbconvert_exporter": "python",
   "pygments_lexer": "ipython3",
   "version": "3.12.3"
  }
 },
 "nbformat": 4,
 "nbformat_minor": 2
}
