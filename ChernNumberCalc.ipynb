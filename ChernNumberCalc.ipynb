{
 "cells": [
  {
   "cell_type": "code",
   "execution_count": 2,
   "metadata": {},
   "outputs": [
    {
     "ename": "NameError",
     "evalue": "name 'init_printing' is not defined",
     "output_type": "error",
     "traceback": [
      "\u001b[1;31m---------------------------------------------------------------------------\u001b[0m",
      "\u001b[1;31mNameError\u001b[0m                                 Traceback (most recent call last)",
      "Cell \u001b[1;32mIn[2], line 5\u001b[0m\n\u001b[0;32m      3\u001b[0m \u001b[38;5;28;01mimport\u001b[39;00m \u001b[38;5;21;01mscipy\u001b[39;00m \u001b[38;5;28;01mas\u001b[39;00m \u001b[38;5;21;01msp\u001b[39;00m\n\u001b[0;32m      4\u001b[0m \u001b[38;5;28;01mimport\u001b[39;00m \u001b[38;5;21;01mmpmath\u001b[39;00m \u001b[38;5;28;01mas\u001b[39;00m \u001b[38;5;21;01mmp\u001b[39;00m\n\u001b[1;32m----> 5\u001b[0m \u001b[43minit_printing\u001b[49m(use_unicode\u001b[38;5;241m=\u001b[39m\u001b[38;5;28;01mTrue\u001b[39;00m)\n",
      "\u001b[1;31mNameError\u001b[0m: name 'init_printing' is not defined"
     ]
    }
   ],
   "source": [
    "import sympy as sym\n",
    "import numpy as np\n",
    "import scipy as sp\n",
    "import mpmath as mp\n",
    "init_printing(use_unicode=True)"
   ]
  },
  {
   "cell_type": "code",
   "execution_count": 51,
   "metadata": {},
   "outputs": [],
   "source": [
    "kx, ky, kz = sym.symbols('kx ky kz')\n",
    "sig = 0.5\n",
    "theta = 90\n",
    "\n",
    "kc = 1000\n",
    "p = 2\n",
    "r = 1/(1 + (sym.sqrt(kx**2 + ky**2)/kc)**p) #ADD BACK IN kz?\n",
    "r=1\n",
    "\n",
    "H = sym.Matrix([[0, -1j*sig, 0, -1j*r, 0, 0, 0, 0, 0],\n",
    "           [1j*sig, 0, 0, 0, -1j*r, 0, 0, 0, 0],\n",
    "           [0, 0, 0, 0, 0, -1j*r, 0, 0, 0],\n",
    "           [1j*r, 0, 0, 0, 0, 0, 0, kz, -ky],\n",
    "           [0, 1j*r, 0, 0, 0, 0, -kz, 0, kx],\n",
    "           [0, 0, 1j*r, 0, 0, 0, ky, -kx, 0],\n",
    "           [0, 0, 0, 0, -kz, ky, 0, 0, 0],\n",
    "           [0, 0, 0, kz, 0, -kx, 0, 0, 0],\n",
    "           [0, 0, 0, -ky, kx, 0, 0, 0, 0]])\n",
    "\n",
    "# k1 = kx\n",
    "# k2 = sin(theta)*ky + cos(theta)*kz\n",
    "\n",
    "dHdkx = sym.diff(H, kx)\n",
    "dHdky = sym.diff(H, ky)\n",
    "dHdkz = sym.diff(H, kz)"
   ]
  },
  {
   "cell_type": "code",
   "execution_count": 52,
   "metadata": {},
   "outputs": [
    {
     "data": {
      "text/latex": [
       "$\\displaystyle \\left[\\begin{matrix}0 & - 0.5 i & 0 & - 1.0 i & 0 & 0 & 0 & 0 & 0\\\\0.5 i & 0 & 0 & 0 & - 1.0 i & 0 & 0 & 0 & 0\\\\0 & 0 & 0 & 0 & 0 & - 1.0 i & 0 & 0 & 0\\\\1.0 i & 0 & 0 & 0 & 0 & 0 & 0 & kz & - ky\\\\0 & 1.0 i & 0 & 0 & 0 & 0 & - kz & 0 & kx\\\\0 & 0 & 1.0 i & 0 & 0 & 0 & ky & - kx & 0\\\\0 & 0 & 0 & 0 & - kz & ky & 0 & 0 & 0\\\\0 & 0 & 0 & kz & 0 & - kx & 0 & 0 & 0\\\\0 & 0 & 0 & - ky & kx & 0 & 0 & 0 & 0\\end{matrix}\\right]$"
      ],
      "text/plain": [
       "⎡  0    -0.5⋅ⅈ    0    -1.0⋅ⅈ    0       0      0    0    0 ⎤\n",
       "⎢                                                           ⎥\n",
       "⎢0.5⋅ⅈ    0       0      0     -1.0⋅ⅈ    0      0    0    0 ⎥\n",
       "⎢                                                           ⎥\n",
       "⎢  0      0       0      0       0     -1.0⋅ⅈ   0    0    0 ⎥\n",
       "⎢                                                           ⎥\n",
       "⎢1.0⋅ⅈ    0       0      0       0       0      0   kz   -ky⎥\n",
       "⎢                                                           ⎥\n",
       "⎢  0    1.0⋅ⅈ     0      0       0       0     -kz   0   kx ⎥\n",
       "⎢                                                           ⎥\n",
       "⎢  0      0     1.0⋅ⅈ    0       0       0     ky   -kx   0 ⎥\n",
       "⎢                                                           ⎥\n",
       "⎢  0      0       0      0      -kz      ky     0    0    0 ⎥\n",
       "⎢                                                           ⎥\n",
       "⎢  0      0       0      kz      0      -kx     0    0    0 ⎥\n",
       "⎢                                                           ⎥\n",
       "⎣  0      0       0     -ky      kx      0      0    0    0 ⎦"
      ]
     },
     "execution_count": 52,
     "metadata": {},
     "output_type": "execute_result"
    }
   ],
   "source": [
    "H"
   ]
  },
  {
   "cell_type": "code",
   "execution_count": 53,
   "metadata": {},
   "outputs": [],
   "source": [
    "# kx_num = 1\n",
    "# ky_num = 0\n",
    "# kz_num = 0.4\n",
    "# n = 6\n",
    "\n",
    "def getBerryCurvature(n, kx_num, ky_num, kz_num):\n",
    "    H_num = np.matrix(H.subs({kx: kx_num, ky: ky_num, kz: kz_num}), dtype=np.complex128)\n",
    "    dHdkx_num = np.matrix(dHdkx.subs({kx: kx_num, ky: ky_num, kz: kz_num}), dtype=np.complex128)\n",
    "    dHdky_num = np.matrix(dHdky.subs({kx: kx_num, ky: ky_num, kz: kz_num}), dtype=np.complex128)\n",
    "    evals, evecsMat = np.linalg.eigh(H_num)\n",
    "    evecs = [np.matrix(evecsMat[:,i]) for i in range(len(evecsMat))]\n",
    "\n",
    "    # Fn = 0\n",
    "    # for m in range(9):\n",
    "    #     if m != n:\n",
    "    #         term1 = evecs[n].H @ dHdkx_num @ evecs[m]\n",
    "    #         term2 = evecs[m].H @ dHdky_num @ evecs[n]\n",
    "    #         term3 = evecs[m].H @ dHdkx_num @ evecs[n]\n",
    "    #         term4 = evecs[n].H @ dHdky_num @ evecs[m]\n",
    "    #         Fn += 1j* (term1*term2 - term3*term4)/((evals[n] - evals[m])**2)\n",
    "\n",
    "    Fn = 0\n",
    "    for m in range(9):\n",
    "        if m != n:\n",
    "            term1 = evecs[n].H @ dHdkx_num @ evecs[m]\n",
    "            term2 = evecs[m].H @ dHdky_num @ evecs[n]\n",
    "            evaldiff = evals[n] - evals[m]\n",
    "            if evaldiff == 0:\n",
    "                print(f\"{n-4} = {evals[n]}, {m-4} = {evals[m]}\")\n",
    "                print(term1*term2)\n",
    "                raise(\"Yuh\")\n",
    "            Fn += -2 * (term1 * term2)/((evaldiff)**2)\n",
    "    Fn = Fn.imag\n",
    "    \n",
    "    return Fn[0,0]"
   ]
  },
  {
   "cell_type": "code",
   "execution_count": 54,
   "metadata": {},
   "outputs": [
    {
     "name": "stdout",
     "output_type": "stream",
     "text": [
      "0.010452846326765346 0.09945218953682733\n"
     ]
    },
    {
     "data": {
      "image/png": "[encoded data removed]",
      "text/latex": [
       "$\\displaystyle 5.19115263558659$"
      ],
      "text/plain": [
       "5.191152635586586"
      ]
     },
     "execution_count": 54,
     "metadata": {},
     "output_type": "execute_result"
    }
   ],
   "source": [
    "n = 6\n",
    "kz_num = 0.4\n",
    "kperp = 1e-1\n",
    "thetadegs = 84\n",
    "\n",
    "theta = thetadegs/360 * 2*np.pi\n",
    "kx_num = kperp * np.cos(theta)\n",
    "ky_num = kperp * np.sin(theta)\n",
    "\n",
    "print(kx_num, ky_num)\n",
    "\n",
    "getBerryCurvature(n, kx_num, ky_num, kz_num)"
   ]
  },
  {
   "cell_type": "code",
   "execution_count": 1,
   "metadata": {},
   "outputs": [
    {
     "ename": "NameError",
     "evalue": "name 'sp' is not defined",
     "output_type": "error",
     "traceback": [
      "\u001b[1;31m---------------------------------------------------------------------------\u001b[0m",
      "\u001b[1;31mNameError\u001b[0m                                 Traceback (most recent call last)",
      "Cell \u001b[1;32mIn[1], line 7\u001b[0m\n\u001b[0;32m      4\u001b[0m     kz \u001b[38;5;241m=\u001b[39m \u001b[38;5;241m0.8\u001b[39m\n\u001b[0;32m      5\u001b[0m     \u001b[38;5;28;01mreturn\u001b[39;00m kperp \u001b[38;5;241m*\u001b[39m getBerryCurvature(n, kperp, \u001b[38;5;241m0\u001b[39m, kz)\n\u001b[1;32m----> 7\u001b[0m twopiCn, error \u001b[38;5;241m=\u001b[39m \u001b[43msp\u001b[49m\u001b[38;5;241m.\u001b[39mintegrate\u001b[38;5;241m.\u001b[39mquad(integrand, \u001b[38;5;241m0\u001b[39m, \u001b[38;5;241m2\u001b[39m\u001b[38;5;241m*\u001b[39mkc)\n\u001b[0;32m      8\u001b[0m Cn \u001b[38;5;241m=\u001b[39m twopiCn \u001b[38;5;241m/\u001b[39m \u001b[38;5;241m2\u001b[39m\u001b[38;5;241m*\u001b[39mnp\u001b[38;5;241m.\u001b[39mpi\n\u001b[0;32m      9\u001b[0m \u001b[38;5;28mprint\u001b[39m(Cn)\n",
      "\u001b[1;31mNameError\u001b[0m: name 'sp' is not defined"
     ]
    }
   ],
   "source": [
    "def integrand(kperp):\n",
    "    n = 2\n",
    "    n += 4\n",
    "    kz = 0.8\n",
    "    return kperp * getBerryCurvature(n, kperp, 0, kz)\n",
    "\n",
    "twopiCn, error = sp.integrate.quad(integrand, 0, 2*kc)\n",
    "Cn = twopiCn / 2*np.pi\n",
    "print(Cn)"
   ]
  },
  {
   "cell_type": "code",
   "execution_count": null,
   "metadata": {},
   "outputs": [],
   "source": []
  }
 ],
 "metadata": {
  "kernelspec": {
   "display_name": "gen",
   "language": "python",
   "name": "python3"
  },
  "language_info": {
   "codemirror_mode": {
    "name": "ipython",
    "version": 3
   },
   "file_extension": ".py",
   "mimetype": "text/x-python",
   "name": "python",
   "nbconvert_exporter": "python",
   "pygments_lexer": "ipython3",
   "version": "3.12.3"
  }
 },
 "nbformat": 4,
 "nbformat_minor": 2
}
